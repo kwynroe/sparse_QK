{
 "cells": [
  {
   "cell_type": "code",
   "execution_count": 1,
   "metadata": {},
   "outputs": [],
   "source": [
    "from ActivationStoreParallel import ActivationsStore\n",
    "from sparse_transcoder import SparseTranscoder\n",
    "from transcoder_training_parallel import train_transcoder_on_language_model_parallel\n",
    "from transcoder_runner_parallel import language_model_transcoder_runner_parallel\n",
    "from dataclasses import dataclass\n",
    "import transformer_lens\n",
    "import torch\n",
    "import wandb\n",
    "from typing import Optional"
   ]
  },
  {
   "cell_type": "code",
   "execution_count": 4,
   "metadata": {},
   "outputs": [],
   "source": [
    "@dataclass\n",
    "class UnifiedConfig():\n",
    "    # Common settings\n",
    "    model_name: str = \"gpt2-small\"\n",
    "    hook_point: str = \"blocks.10.hook_resid_pre\"\n",
    "    ln: str = 'blocks.10.ln1.hook_scale'\n",
    "    hook_point_layer: int = 10\n",
    "    layer: int = 10\n",
    "    d_in: int = 768\n",
    "    d_out: int = 768\n",
    "    n_head: int = 12\n",
    "    d_head: int = 64\n",
    "    dataset_path: str = \"Skylion007/openwebtext\"\n",
    "    is_dataset_tokenized: bool = False\n",
    "    training: bool = True\n",
    "    attn_scores_normed = False\n",
    "    \n",
    "    # SAE Parameters\n",
    "    expansion_factor: int = 12   # TODO: NOT being used??\n",
    "    d_hidden: int = 2400\n",
    "    b_dec_init_method: str = \"mean\"\n",
    "    \n",
    "    # Training Parameters\n",
    "    lr: float = 1e-5\n",
    "    reg_coefficient: float = 4e-6\n",
    "    lr_scheduler_name: Optional[str] = None\n",
    "    train_batch_size: int = 2048\n",
    "    context_size: int = 256\n",
    "    lr_warm_up_steps: int = 5000\n",
    "    \n",
    "    # Activation Store Parameters\n",
    "    n_batches_in_buffer: int = 128\n",
    "    total_training_tokens: int = 20_000 * 10\n",
    "    store_batch_size: int = 32\n",
    "    use_cached_activations: bool = False\n",
    "    \n",
    "    # Resampling protocol\n",
    "    feature_sampling_method: str = 'none'\n",
    "    feature_sampling_window: int = 1000\n",
    "    feature_reinit_scale: float = 0.2\n",
    "    resample_batches: int = 1028\n",
    "    dead_feature_window: int = 50000\n",
    "    dead_feature_threshold: float = 1e-6\n",
    "    \n",
    "    # WANDB\n",
    "    log_to_wandb: bool = False\n",
    "    wandb_project: str = \"sparsification\"\n",
    "    wandb_entity: Optional[str] = None\n",
    "    wandb_log_frequency: int = 1000\n",
    "    entity: str = \"kwyn390\"\n",
    "    \n",
    "    # Misc\n",
    "    device: str = \"cuda\"\n",
    "    eps: float = 1e-7\n",
    "    seed: int = 42\n",
    "    reshape_from_heads: bool = True\n",
    "    n_checkpoints: int = 10\n",
    "    checkpoint_path: str = \"checkpoints\"\n",
    "    dtype: torch.dtype = torch.float32\n",
    "    run_name: str = \"qk_parallel\"\n",
    "    \n",
    "    # Query-specific settings\n",
    "    hook_transcoder_in_q: str = \"blocks.10.hook_resid_pre\"\n",
    "    hook_transcoder_out_q: str = \"blocks.10.attn.hook_q\"\n",
    "    target_q: str = \"blocks.10.attn.hook_q\"\n",
    "    type_q: str = \"resid_to_queries\"\n",
    "    \n",
    "    # Key-specific settings\n",
    "    hook_transcoder_in_k: str = \"blocks.10.hook_resid_pre\"\n",
    "    hook_transcoder_out_k: str = \"blocks.10.attn.hook_k\"\n",
    "    target_k: str = \"blocks.10.attn.hook_k\"\n",
    "    type_k: str = \"resid_to_keys\"\n",
    "\n",
    "cfg = UnifiedConfig()\n",
    "cfg.run_name = f\"{cfg.d_hidden}_{cfg.reg_coefficient}_{cfg.lr}\""
   ]
  },
  {
   "cell_type": "code",
   "execution_count": 5,
   "metadata": {},
   "outputs": [
    {
     "name": "stderr",
     "output_type": "stream",
     "text": [
      "285| MSE Loss 22.481:   0%|          | 585728/200000000 [00:50<3:02:51, 18175.88it/s]"
     ]
    },
    {
     "name": "stdout",
     "output_type": "stream",
     "text": [
      "Loaded pretrained model gpt2-small into HookedTransformer\n",
      "Dataset is not tokenized! Updating config.\n",
      "TRAIN STARTED\n",
      "gonna schedule!\n",
      "Reinitializing b_dec with mean of activations\n",
      "Previous distances: 27.712806701660156\n",
      "New distances: 19.674325942993164\n",
      "Reinitializing b_dec_out with mean of activations\n",
      "Previous distances: 36.17184066772461\n",
      "New distances: 28.02600860595703\n",
      "Reinitializing b_dec with mean of activations\n",
      "Previous distances: 27.712806701660156\n",
      "New distances: 19.674325942993164\n",
      "Reinitializing b_dec_out with mean of activations\n",
      "Previous distances: 41.437225341796875\n",
      "New distances: 31.178068161010742\n",
      "gonna progress bar!\n"
     ]
    },
    {
     "name": "stderr",
     "output_type": "stream",
     "text": [
      "\n",
      "Training SAE:   0%|          | 0/200000 [00:00<?, ?it/s]\u001b[A\n",
      "0| MSE Loss 132.460:   0%|          | 0/200000 [00:00<?, ?it/s]\u001b[A\n",
      "1| MSE Loss 129.409:   1%|          | 2048/200000 [00:00<00:11, 17822.29it/s]\u001b[A\n",
      "1| MSE Loss 129.409:   2%|▏         | 4096/200000 [00:00<00:05, 35352.00it/s]\u001b[A\n",
      "2| MSE Loss 122.982:   2%|▏         | 4096/200000 [00:00<00:05, 35352.00it/s]\u001b[A\n",
      "3| MSE Loss 116.592:   3%|▎         | 6144/200000 [00:00<00:05, 35352.00it/s]\u001b[A\n",
      "3| MSE Loss 116.592:   4%|▍         | 8192/200000 [00:00<00:08, 22629.59it/s]\u001b[A\n",
      "4| MSE Loss 116.331:   4%|▍         | 8192/200000 [00:00<00:08, 22629.59it/s]\u001b[A\n",
      "5| MSE Loss 109.755:   5%|▌         | 10240/200000 [00:00<00:08, 22629.59it/s]\u001b[A\n",
      "5| MSE Loss 109.755:   6%|▌         | 12288/200000 [00:00<00:09, 20646.22it/s]\u001b[A\n",
      "6| MSE Loss 109.612:   6%|▌         | 12288/200000 [00:00<00:09, 20646.22it/s]\u001b[A\n",
      "7| MSE Loss 101.517:   7%|▋         | 14336/200000 [00:00<00:08, 20646.22it/s]\u001b[A\n",
      "7| MSE Loss 101.517:   8%|▊         | 16384/200000 [00:00<00:08, 20964.06it/s]\u001b[A\n",
      "8| MSE Loss 97.702:   8%|▊         | 16384/200000 [00:00<00:08, 20964.06it/s] \u001b[A\n",
      "9| MSE Loss 95.548:   9%|▉         | 18432/200000 [00:00<00:08, 20964.06it/s]\u001b[A\n",
      "9| MSE Loss 95.548:  10%|█         | 20480/200000 [00:00<00:08, 22277.84it/s]\u001b[A\n",
      "10| MSE Loss 92.245:  10%|█         | 20480/200000 [00:01<00:08, 22277.84it/s]\u001b[A\n",
      "11| MSE Loss 88.233:  11%|█▏        | 22528/200000 [00:01<00:07, 22277.84it/s]\u001b[A\n",
      "11| MSE Loss 88.233:  12%|█▏        | 24576/200000 [00:01<00:08, 20860.55it/s]\u001b[A"
     ]
    },
    {
     "name": "stdout",
     "output_type": "stream",
     "text": [
      "Saved model to checkpoints/20480_sparse_transcoder_gpt2-small_resid_to_queries_2400.pt\n",
      "Saved model to checkpoints/20480_sparse_transcoder_gpt2-small_resid_to_keys_2400.pt\n"
     ]
    },
    {
     "name": "stderr",
     "output_type": "stream",
     "text": [
      "\n",
      "12| MSE Loss 85.221:  12%|█▏        | 24576/200000 [00:01<00:08, 20860.55it/s]\u001b[A\n",
      "13| MSE Loss 82.023:  13%|█▎        | 26624/200000 [00:01<00:08, 20860.55it/s]\u001b[A\n",
      "13| MSE Loss 82.023:  14%|█▍        | 28672/200000 [00:01<00:07, 21527.46it/s]\u001b[A\n",
      "14| MSE Loss 78.346:  14%|█▍        | 28672/200000 [00:01<00:07, 21527.46it/s]\u001b[A\n",
      "15| MSE Loss 75.706:  15%|█▌        | 30720/200000 [00:01<00:07, 21527.46it/s]\u001b[A\n",
      "15| MSE Loss 75.706:  16%|█▋        | 32768/200000 [00:01<00:07, 21100.59it/s]\u001b[A\n",
      "16| MSE Loss 72.907:  16%|█▋        | 32768/200000 [00:01<00:07, 21100.59it/s]\u001b[A\n",
      "17| MSE Loss 69.024:  17%|█▋        | 34816/200000 [00:01<00:07, 21100.59it/s]\u001b[A\n",
      "17| MSE Loss 69.024:  18%|█▊        | 36864/200000 [00:01<00:06, 23353.52it/s]\u001b[A\n",
      "18| MSE Loss 67.870:  18%|█▊        | 36864/200000 [00:01<00:06, 23353.52it/s]\u001b[A\n",
      "19| MSE Loss 64.194:  19%|█▉        | 38912/200000 [00:01<00:06, 23353.52it/s]\u001b[A\n",
      "19| MSE Loss 64.194:  20%|██        | 40960/200000 [00:01<00:07, 22181.89it/s]\u001b[A\n",
      "20| MSE Loss 65.163:  20%|██        | 40960/200000 [00:02<00:07, 22181.89it/s]\u001b[A"
     ]
    },
    {
     "name": "stdout",
     "output_type": "stream",
     "text": [
      "Saved model to checkpoints/40960_sparse_transcoder_gpt2-small_resid_to_queries_2400.pt\n",
      "Saved model to checkpoints/40960_sparse_transcoder_gpt2-small_resid_to_keys_2400.pt\n"
     ]
    },
    {
     "name": "stderr",
     "output_type": "stream",
     "text": [
      "\n",
      "21| MSE Loss 62.601:  22%|██▏       | 43008/200000 [00:02<00:07, 22181.89it/s]\u001b[A\n",
      "21| MSE Loss 62.601:  23%|██▎       | 45056/200000 [00:02<00:09, 16979.68it/s]\u001b[A\n",
      "22| MSE Loss 60.093:  23%|██▎       | 45056/200000 [00:02<00:09, 16979.68it/s]\u001b[A\n",
      "23| MSE Loss 57.891:  24%|██▎       | 47104/200000 [00:02<00:09, 16979.68it/s]\u001b[A\n",
      "24| MSE Loss 58.132:  25%|██▍       | 49152/200000 [00:02<00:08, 16979.68it/s]\u001b[A\n",
      "24| MSE Loss 58.132:  26%|██▌       | 51200/200000 [00:02<00:08, 18394.91it/s]\u001b[A\n",
      "25| MSE Loss 56.156:  26%|██▌       | 51200/200000 [00:02<00:08, 18394.91it/s]\u001b[A\n",
      "25| MSE Loss 56.156:  27%|██▋       | 53248/200000 [00:02<00:07, 18552.95it/s]\u001b[A\n",
      "26| MSE Loss 55.351:  27%|██▋       | 53248/200000 [00:02<00:07, 18552.95it/s]\u001b[A\n",
      "27| MSE Loss 54.460:  28%|██▊       | 55296/200000 [00:02<00:07, 18552.95it/s]\u001b[A\n",
      "27| MSE Loss 54.460:  29%|██▊       | 57344/200000 [00:02<00:08, 17800.71it/s]\u001b[A\n",
      "28| MSE Loss 51.159:  29%|██▊       | 57344/200000 [00:03<00:08, 17800.71it/s]\u001b[A\n",
      "28| MSE Loss 51.159:  30%|██▉       | 59392/200000 [00:03<00:08, 16090.70it/s]\u001b[A\n",
      "29| MSE Loss 52.079:  30%|██▉       | 59392/200000 [00:03<00:08, 16090.70it/s]\u001b[A\n",
      "29| MSE Loss 52.079:  31%|███       | 61440/200000 [00:03<00:08, 16396.55it/s]\u001b[A\n",
      "30| MSE Loss 51.847:  31%|███       | 61440/200000 [00:03<00:08, 16396.55it/s]\u001b[A\n",
      "30| MSE Loss 51.847:  32%|███▏      | 63488/200000 [00:03<00:08, 16271.44it/s]\u001b[A\n",
      "31| MSE Loss 48.982:  32%|███▏      | 63488/200000 [00:03<00:08, 16271.44it/s]\u001b[A\n",
      "31| MSE Loss 48.982:  33%|███▎      | 65536/200000 [00:03<00:08, 16288.04it/s]\u001b[A"
     ]
    },
    {
     "name": "stdout",
     "output_type": "stream",
     "text": [
      "Saved model to checkpoints/61440_sparse_transcoder_gpt2-small_resid_to_queries_2400.pt\n",
      "Saved model to checkpoints/61440_sparse_transcoder_gpt2-small_resid_to_keys_2400.pt\n"
     ]
    },
    {
     "name": "stderr",
     "output_type": "stream",
     "text": [
      "\n",
      "32| MSE Loss 50.164:  33%|███▎      | 65536/200000 [00:03<00:08, 16288.04it/s]\u001b[A\n",
      "32| MSE Loss 50.164:  34%|███▍      | 67584/200000 [00:03<00:09, 14439.25it/s]\u001b[A\n",
      "33| MSE Loss 47.666:  34%|███▍      | 67584/200000 [00:03<00:09, 14439.25it/s]\u001b[A\n",
      "34| MSE Loss 49.246:  35%|███▍      | 69632/200000 [00:03<00:09, 14439.25it/s]\u001b[A\n",
      "34| MSE Loss 49.246:  36%|███▌      | 71680/200000 [00:03<00:06, 19637.60it/s]\u001b[A\n",
      "35| MSE Loss 48.970:  36%|███▌      | 71680/200000 [00:03<00:06, 19637.60it/s]\u001b[A\n",
      "36| MSE Loss 46.536:  37%|███▋      | 73728/200000 [00:04<00:06, 19637.60it/s]\u001b[A\n",
      "36| MSE Loss 46.536:  38%|███▊      | 75776/200000 [00:04<00:07, 15736.79it/s]\u001b[A\n",
      "37| MSE Loss 45.769:  38%|███▊      | 75776/200000 [00:04<00:07, 15736.79it/s]\u001b[A\n",
      "37| MSE Loss 45.769:  39%|███▉      | 77824/200000 [00:04<00:08, 14307.59it/s]\u001b[A\n",
      "38| MSE Loss 44.629:  39%|███▉      | 77824/200000 [00:04<00:08, 14307.59it/s]\u001b[A\n",
      "39| MSE Loss 45.258:  40%|███▉      | 79872/200000 [00:04<00:08, 14307.59it/s]\u001b[A\n",
      "39| MSE Loss 45.258:  41%|████      | 81920/200000 [00:04<00:08, 14233.00it/s]\u001b[A\n",
      "40| MSE Loss 43.063:  41%|████      | 81920/200000 [00:04<00:08, 14233.00it/s]\u001b[A\n",
      "40| MSE Loss 43.063:  42%|████▏     | 83968/200000 [00:04<00:09, 12718.85it/s]\u001b[A"
     ]
    },
    {
     "name": "stdout",
     "output_type": "stream",
     "text": [
      "Saved model to checkpoints/81920_sparse_transcoder_gpt2-small_resid_to_queries_2400.pt\n",
      "Saved model to checkpoints/81920_sparse_transcoder_gpt2-small_resid_to_keys_2400.pt\n"
     ]
    },
    {
     "name": "stderr",
     "output_type": "stream",
     "text": [
      "\n",
      "41| MSE Loss 44.505:  42%|████▏     | 83968/200000 [00:04<00:09, 12718.85it/s]\u001b[A\n",
      "42| MSE Loss 43.803:  43%|████▎     | 86016/200000 [00:05<00:08, 12718.85it/s]\u001b[A\n",
      "42| MSE Loss 43.803:  44%|████▍     | 88064/200000 [00:05<00:08, 13091.67it/s]\u001b[A\n",
      "43| MSE Loss 42.733:  44%|████▍     | 88064/200000 [00:05<00:08, 13091.67it/s]\u001b[A\n",
      "43| MSE Loss 42.733:  45%|████▌     | 90112/200000 [00:05<00:09, 12167.24it/s]\u001b[A\n",
      "44| MSE Loss 42.957:  45%|████▌     | 90112/200000 [00:05<00:09, 12167.24it/s]\u001b[A\n",
      "45| MSE Loss 42.975:  46%|████▌     | 92160/200000 [00:05<00:08, 12167.24it/s]\u001b[A\n",
      "45| MSE Loss 42.975:  47%|████▋     | 94208/200000 [00:05<00:08, 12946.33it/s]\u001b[A\n",
      "46| MSE Loss 39.935:  47%|████▋     | 94208/200000 [00:05<00:08, 12946.33it/s]\u001b[A\n",
      "46| MSE Loss 39.935:  48%|████▊     | 96256/200000 [00:05<00:07, 13128.75it/s]\u001b[A\n",
      "47| MSE Loss 38.973:  48%|████▊     | 96256/200000 [00:05<00:07, 13128.75it/s]\u001b[A\n",
      "47| MSE Loss 38.973:  49%|████▉     | 98304/200000 [00:05<00:08, 12330.11it/s]\u001b[A\n",
      "48| MSE Loss 42.164:  49%|████▉     | 98304/200000 [00:05<00:08, 12330.11it/s]\u001b[A\n",
      "49| MSE Loss 39.429:  50%|█████     | 100352/200000 [00:06<00:08, 12330.11it/s]\u001b[A\n",
      "49| MSE Loss 39.429:  51%|█████     | 102400/200000 [00:06<00:06, 14303.02it/s]\u001b[A"
     ]
    },
    {
     "name": "stdout",
     "output_type": "stream",
     "text": [
      "Saved model to checkpoints/100352_sparse_transcoder_gpt2-small_resid_to_queries_2400.pt\n",
      "Saved model to checkpoints/100352_sparse_transcoder_gpt2-small_resid_to_keys_2400.pt\n"
     ]
    },
    {
     "name": "stderr",
     "output_type": "stream",
     "text": [
      "\n",
      "50| MSE Loss 41.992:  51%|█████     | 102400/200000 [00:06<00:06, 14303.02it/s]\u001b[A\n",
      "50| MSE Loss 41.992:  52%|█████▏    | 104448/200000 [00:06<00:07, 12786.04it/s]\u001b[A\n",
      "51| MSE Loss 37.548:  52%|█████▏    | 104448/200000 [00:06<00:07, 12786.04it/s]\u001b[A\n",
      "52| MSE Loss 39.318:  53%|█████▎    | 106496/200000 [00:06<00:07, 12786.04it/s]\u001b[A\n",
      "52| MSE Loss 39.318:  54%|█████▍    | 108544/200000 [00:06<00:06, 14756.21it/s]\u001b[A\n",
      "53| MSE Loss 42.886:  54%|█████▍    | 108544/200000 [00:06<00:06, 14756.21it/s]\u001b[A\n",
      "53| MSE Loss 42.886:  55%|█████▌    | 110592/200000 [00:06<00:05, 15471.92it/s]\u001b[A\n",
      "54| MSE Loss 36.828:  55%|█████▌    | 110592/200000 [00:06<00:05, 15471.92it/s]\u001b[A\n",
      "54| MSE Loss 36.828:  56%|█████▋    | 112640/200000 [00:06<00:06, 14097.09it/s]\u001b[A\n",
      "55| MSE Loss 40.333:  56%|█████▋    | 112640/200000 [00:07<00:06, 14097.09it/s]\u001b[A\n",
      "55| MSE Loss 40.333:  57%|█████▋    | 114688/200000 [00:07<00:06, 13506.08it/s]\u001b[A\n",
      "56| MSE Loss 37.123:  57%|█████▋    | 114688/200000 [00:07<00:06, 13506.08it/s]\u001b[A\n",
      "56| MSE Loss 37.123:  58%|█████▊    | 116736/200000 [00:07<00:06, 12671.38it/s]\u001b[A\n",
      "57| MSE Loss 36.253:  58%|█████▊    | 116736/200000 [00:07<00:06, 12671.38it/s]\u001b[A\n",
      "58| MSE Loss 37.169:  59%|█████▉    | 118784/200000 [00:07<00:06, 12671.38it/s]\u001b[A\n",
      "58| MSE Loss 37.169:  60%|██████    | 120832/200000 [00:07<00:04, 15959.44it/s]\u001b[A\n",
      "59| MSE Loss 37.701:  60%|██████    | 120832/200000 [00:07<00:04, 15959.44it/s]\u001b[A\n",
      "59| MSE Loss 37.701:  61%|██████▏   | 122880/200000 [00:07<00:04, 15946.13it/s]\u001b[A\n",
      "60| MSE Loss 37.583:  61%|██████▏   | 122880/200000 [00:07<00:04, 15946.13it/s]\u001b[A\n",
      "60| MSE Loss 37.583:  62%|██████▏   | 124928/200000 [00:07<00:04, 16194.72it/s]\u001b[A\n",
      "61| MSE Loss 39.649:  62%|██████▏   | 124928/200000 [00:07<00:04, 16194.72it/s]\u001b[A"
     ]
    },
    {
     "name": "stdout",
     "output_type": "stream",
     "text": [
      "Saved model to checkpoints/120832_sparse_transcoder_gpt2-small_resid_to_queries_2400.pt\n",
      "Saved model to checkpoints/120832_sparse_transcoder_gpt2-small_resid_to_keys_2400.pt\n"
     ]
    },
    {
     "name": "stderr",
     "output_type": "stream",
     "text": [
      "\n",
      "62| MSE Loss 37.551:  63%|██████▎   | 126976/200000 [00:07<00:04, 16194.72it/s]\u001b[A\n",
      "62| MSE Loss 37.551:  65%|██████▍   | 129024/200000 [00:07<00:03, 20013.63it/s]\u001b[A\n",
      "63| MSE Loss 38.101:  65%|██████▍   | 129024/200000 [00:07<00:03, 20013.63it/s]\u001b[A\n",
      "64| MSE Loss 35.760:  66%|██████▌   | 131072/200000 [00:07<00:03, 20013.63it/s]\u001b[A\n",
      "64| MSE Loss 35.760:  67%|██████▋   | 133120/200000 [00:07<00:02, 22606.92it/s]\u001b[A\n",
      "65| MSE Loss 39.102:  67%|██████▋   | 133120/200000 [00:08<00:02, 22606.92it/s]\u001b[A\n",
      "66| MSE Loss 35.109:  68%|██████▊   | 135168/200000 [00:08<00:02, 22606.92it/s]\u001b[A\n",
      "66| MSE Loss 35.109:  69%|██████▊   | 137216/200000 [00:08<00:03, 18002.42it/s]\u001b[A\n",
      "67| MSE Loss 33.011:  69%|██████▊   | 137216/200000 [00:08<00:03, 18002.42it/s]\u001b[A\n",
      "68| MSE Loss 34.862:  70%|██████▉   | 139264/200000 [00:08<00:03, 18002.42it/s]\u001b[A\n",
      "69| MSE Loss 36.677:  71%|███████   | 141312/200000 [00:08<00:03, 18002.42it/s]\u001b[A\n",
      "69| MSE Loss 36.677:  72%|███████▏  | 143360/200000 [00:08<00:02, 22984.27it/s]\u001b[A\n",
      "70| MSE Loss 36.423:  72%|███████▏  | 143360/200000 [00:08<00:02, 22984.27it/s]\u001b[A\n",
      "71| MSE Loss 36.676:  73%|███████▎  | 145408/200000 [00:08<00:02, 22984.27it/s]\u001b[A"
     ]
    },
    {
     "name": "stdout",
     "output_type": "stream",
     "text": [
      "Saved model to checkpoints/141312_sparse_transcoder_gpt2-small_resid_to_queries_2400.pt\n",
      "Saved model to checkpoints/141312_sparse_transcoder_gpt2-small_resid_to_keys_2400.pt\n"
     ]
    },
    {
     "name": "stderr",
     "output_type": "stream",
     "text": [
      "\n",
      "72| MSE Loss 32.924:  74%|███████▎  | 147456/200000 [00:08<00:02, 22984.27it/s]\u001b[A\n",
      "72| MSE Loss 32.924:  75%|███████▍  | 149504/200000 [00:08<00:02, 23891.57it/s]\u001b[A\n",
      "73| MSE Loss 33.623:  75%|███████▍  | 149504/200000 [00:08<00:02, 23891.57it/s]\u001b[A\n",
      "74| MSE Loss 33.817:  76%|███████▌  | 151552/200000 [00:08<00:02, 23891.57it/s]\u001b[A\n",
      "74| MSE Loss 33.817:  77%|███████▋  | 153600/200000 [00:09<00:02, 18147.58it/s]\u001b[A\n",
      "75| MSE Loss 32.806:  77%|███████▋  | 153600/200000 [00:09<00:02, 18147.58it/s]\u001b[A\n",
      "76| MSE Loss 34.422:  78%|███████▊  | 155648/200000 [00:09<00:02, 18147.58it/s]\u001b[A\n",
      "76| MSE Loss 34.422:  79%|███████▉  | 157696/200000 [00:09<00:02, 18200.18it/s]\u001b[A\n",
      "77| MSE Loss 34.426:  79%|███████▉  | 157696/200000 [00:09<00:02, 18200.18it/s]\u001b[A\n",
      "77| MSE Loss 34.426:  80%|███████▉  | 159744/200000 [00:09<00:02, 16557.77it/s]\u001b[A\n",
      "78| MSE Loss 34.294:  80%|███████▉  | 159744/200000 [00:09<00:02, 16557.77it/s]\u001b[A\n",
      "78| MSE Loss 34.294:  81%|████████  | 161792/200000 [00:09<00:02, 15788.98it/s]\u001b[A\n",
      "79| MSE Loss 33.017:  81%|████████  | 161792/200000 [00:09<00:02, 15788.98it/s]\u001b[A\n",
      "79| MSE Loss 33.017:  82%|████████▏ | 163840/200000 [00:09<00:02, 16037.84it/s]\u001b[A\n",
      "80| MSE Loss 33.500:  82%|████████▏ | 163840/200000 [00:09<00:02, 16037.84it/s]\u001b[A\n",
      "81| MSE Loss 33.456:  83%|████████▎ | 165888/200000 [00:09<00:02, 16037.84it/s]\u001b[A"
     ]
    },
    {
     "name": "stdout",
     "output_type": "stream",
     "text": [
      "Saved model to checkpoints/161792_sparse_transcoder_gpt2-small_resid_to_queries_2400.pt\n",
      "Saved model to checkpoints/161792_sparse_transcoder_gpt2-small_resid_to_keys_2400.pt\n"
     ]
    },
    {
     "name": "stderr",
     "output_type": "stream",
     "text": [
      "\n",
      "82| MSE Loss 30.866:  84%|████████▍ | 167936/200000 [00:09<00:01, 16037.84it/s]\u001b[A\n",
      "82| MSE Loss 30.866:  85%|████████▍ | 169984/200000 [00:09<00:01, 19086.35it/s]\u001b[A\n",
      "83| MSE Loss 30.952:  85%|████████▍ | 169984/200000 [00:10<00:01, 19086.35it/s]\u001b[A\n",
      "83| MSE Loss 30.952:  86%|████████▌ | 172032/200000 [00:10<00:01, 15849.28it/s]\u001b[A\n",
      "84| MSE Loss 34.458:  86%|████████▌ | 172032/200000 [00:10<00:01, 15849.28it/s]\u001b[A\n",
      "85| MSE Loss 29.644:  87%|████████▋ | 174080/200000 [00:10<00:01, 15849.28it/s]\u001b[A\n",
      "86| MSE Loss 30.522:  88%|████████▊ | 176128/200000 [00:10<00:01, 15849.28it/s]\u001b[A\n",
      "86| MSE Loss 30.522:  89%|████████▉ | 178176/200000 [00:10<00:00, 21947.55it/s]\u001b[A\n",
      "87| MSE Loss 32.424:  89%|████████▉ | 178176/200000 [00:10<00:00, 21947.55it/s]\u001b[A\n",
      "88| MSE Loss 33.976:  90%|█████████ | 180224/200000 [00:10<00:00, 21947.55it/s]\u001b[A\n",
      "88| MSE Loss 33.976:  91%|█████████ | 182272/200000 [00:10<00:00, 20826.84it/s]\u001b[A\n",
      "89| MSE Loss 33.516:  91%|█████████ | 182272/200000 [00:10<00:00, 20826.84it/s]\u001b[A\n",
      "90| MSE Loss 31.006:  92%|█████████▏| 184320/200000 [00:10<00:00, 20826.84it/s]\u001b[A\n",
      "90| MSE Loss 31.006:  93%|█████████▎| 186368/200000 [00:10<00:00, 24291.27it/s]\u001b[A\n",
      "91| MSE Loss 31.634:  93%|█████████▎| 186368/200000 [00:10<00:00, 24291.27it/s]\u001b[A"
     ]
    },
    {
     "name": "stdout",
     "output_type": "stream",
     "text": [
      "Saved model to checkpoints/180224_sparse_transcoder_gpt2-small_resid_to_queries_2400.pt\n",
      "Saved model to checkpoints/180224_sparse_transcoder_gpt2-small_resid_to_keys_2400.pt\n"
     ]
    },
    {
     "name": "stderr",
     "output_type": "stream",
     "text": [
      "\n",
      "92| MSE Loss 29.061:  94%|█████████▍| 188416/200000 [00:10<00:00, 24291.27it/s]\u001b[A\n",
      "93| MSE Loss 31.397:  95%|█████████▌| 190464/200000 [00:10<00:00, 24291.27it/s]\u001b[A\n",
      "93| MSE Loss 31.397:  96%|█████████▋| 192512/200000 [00:10<00:00, 27273.01it/s]\u001b[A\n",
      "94| MSE Loss 31.165:  96%|█████████▋| 192512/200000 [00:11<00:00, 27273.01it/s]\u001b[A\n",
      "95| MSE Loss 34.666:  97%|█████████▋| 194560/200000 [00:11<00:00, 27273.01it/s]\u001b[A\n",
      "95| MSE Loss 34.666:  98%|█████████▊| 196608/200000 [00:11<00:00, 21734.33it/s]\u001b[A\n",
      "96| MSE Loss 29.405:  98%|█████████▊| 196608/200000 [00:11<00:00, 21734.33it/s]\u001b[A\n",
      "97| MSE Loss 30.004:  99%|█████████▉| 198656/200000 [00:11<00:00, 21734.33it/s]\u001b[A\n",
      "97| MSE Loss 30.004: : 200704it [00:11, 17817.05it/s]                          \u001b[A\n"
     ]
    },
    {
     "name": "stdout",
     "output_type": "stream",
     "text": [
      "Saved model to checkpoints/final_sparse_transcoder_gpt2-small_resid_to_queries_2400.pt\n",
      "Saved model to checkpoints/final_sparse_transcoder_gpt2-small_resid_to_keys_2400.pt\n"
     ]
    }
   ],
   "source": [
    "sparse_transcoder_Q, sparse_transcoder_K = language_model_transcoder_runner_parallel(cfg)"
   ]
  },
  {
   "cell_type": "code",
   "execution_count": 7,
   "metadata": {},
   "outputs": [
    {
     "data": {
      "text/plain": [
       "'sparse_transcoder_gpt2-small_resid_to_keys_2400'"
      ]
     },
     "execution_count": 7,
     "metadata": {},
     "output_type": "execute_result"
    }
   ],
   "source": [
    "sparse_transcoder_K.get_name()"
   ]
  },
  {
   "cell_type": "code",
   "execution_count": 2,
   "metadata": {},
   "outputs": [],
   "source": [
    "kl_loss = torch.nn.KLDivLoss(reduction=\"batchmean\", log_target = True)\n"
   ]
  },
  {
   "cell_type": "code",
   "execution_count": 54,
   "metadata": {},
   "outputs": [
    {
     "name": "stdout",
     "output_type": "stream",
     "text": [
      "tensor(0.0819)\n"
     ]
    }
   ],
   "source": [
    "a = torch.rand(12, 256, 256)\n",
    "b = torch.rand(12, 256, 256)\n",
    "\n",
    "\n",
    "a_patt = a.softmax(-1)\n",
    "b_patt = b.softmax(-1)\n",
    "\n",
    "print(kl_loss(a_patt, b_patt).mean())"
   ]
  },
  {
   "cell_type": "code",
   "execution_count": null,
   "metadata": {},
   "outputs": [],
   "source": [
    "kl_loss = torch.nn.KLDivLoss(reduction=\"batchmean\", log_target = True)\n",
    "\n",
    "kl_loss(a_patt, b_patt)"
   ]
  }
 ],
 "metadata": {
  "kernelspec": {
   "display_name": "Python 3 (ipykernel)",
   "language": "python",
   "name": "python3"
  },
  "language_info": {
   "codemirror_mode": {
    "name": "ipython",
    "version": 3
   },
   "file_extension": ".py",
   "mimetype": "text/x-python",
   "name": "python",
   "nbconvert_exporter": "python",
   "pygments_lexer": "ipython3",
   "version": "3.10.13"
  }
 },
 "nbformat": 4,
 "nbformat_minor": 4
}
